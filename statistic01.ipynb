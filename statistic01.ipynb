{
 "cells": [
  {
   "attachments": {},
   "cell_type": "markdown",
   "metadata": {},
   "source": [
    "Q1. What is Statistics?"
   ]
  },
  {
   "attachments": {},
   "cell_type": "markdown",
   "metadata": {},
   "source": [
    "Ans:Statistic is the science of collecting , organising and analysing the data ."
   ]
  },
  {
   "attachments": {},
   "cell_type": "markdown",
   "metadata": {},
   "source": [
    "Q2. Define the different types of statistics and give an example of when each type might be used."
   ]
  },
  {
   "attachments": {},
   "cell_type": "markdown",
   "metadata": {},
   "source": [
    "Ans: There are two types of statistic:\n",
    "Descripyive ststistic and Inferentional statistic\n",
    "\n",
    "\n",
    "Descripyive ststistic  is involve in summarising and organising data where as Inferational statistic is used data to form conclusion."
   ]
  },
  {
   "attachments": {},
   "cell_type": "markdown",
   "metadata": {},
   "source": [
    "Q3. What are the different types of data and how do they differ from each other? Provide an example of\n",
    "each type of data."
   ]
  },
  {
   "attachments": {},
   "cell_type": "markdown",
   "metadata": {},
   "source": [
    "Ans :\n",
    "Discrete data:\n",
    "Discrete data is the numerical data consist of whole number.\n",
    "\n",
    "for example : no of bank account,no of children in a family, etc.\n",
    "\n",
    "Continuous Data : Continuous Data ican be define as any numerical values.\n",
    "\n",
    "for example : height,weight,temperature,speed,rtc.\n",
    "\n",
    "Nominal data :Nominal data is categorical data that represents distinct categories or labels with no inherent order or numerical value\n",
    "\n",
    "for example : gender , blood group,etc.\n",
    "\n",
    "Ordinal Data:Ordinal data represents categories that have a natural order or ranking\n",
    "\n",
    "for example:\n",
    "customer feedback\n"
   ]
  },
  {
   "attachments": {},
   "cell_type": "markdown",
   "metadata": {},
   "source": [
    "Q4. Categorise the following datasets with respect to quantitative and qualitative data types:\n",
    "(i) Grading in exam: A+, A, B+, B, C+, C, D, E\n",
    "(ii) Colour of mangoes: yellow, green, orange, red\n",
    "(iii) Height data of a class: [178.9, 179, 179.5, 176, 177.2, 178.3, 175.8,...]\n",
    "(iv) Number of mangoes exported by a farm: [500, 600, 478, 672, ...]"
   ]
  },
  {
   "attachments": {},
   "cell_type": "markdown",
   "metadata": {},
   "source": [
    "1] qualitative\n",
    "\n",
    "2]qualitative\n",
    "\n",
    "3]quantitavie\n",
    "\n",
    "4]quantative"
   ]
  },
  {
   "attachments": {},
   "cell_type": "markdown",
   "metadata": {},
   "source": [
    "Q5. Explain the concept of levels of measurement and give an example of a variable for each level."
   ]
  },
  {
   "attachments": {},
   "cell_type": "markdown",
   "metadata": {},
   "source": [
    "Ans :there are four types :\n",
    "\n",
    "Nominal : in this level of measurement there is a qualitative or categirical data even order does not matter here.\n",
    "\n",
    "ordinal : in this level of measurement order matter and ranking is important but the fact is we cannot measured the difference .\n",
    "\n",
    "interval :in this level of measurement order matter,different can be measured ,ration cannot be measured there is no \"0\" starting point.\n",
    "\n",
    "ratio :in this level of measurement order matter,different can be measured including ration there is a \"0\" starting point."
   ]
  },
  {
   "attachments": {},
   "cell_type": "markdown",
   "metadata": {},
   "source": [
    "Q6. Why is it important to understand the level of measurement when analyzing data? Provide an\n",
    "example to illustrate your answer."
   ]
  },
  {
   "attachments": {},
   "cell_type": "markdown",
   "metadata": {},
   "source": [
    "Ans:Understanding the level of measurement is crucial when analyzing data because it determines the appropriate statistical techniques and operations that can be applied to the data. The level of measurement refers to the nature and properties of the variables being measured, which can be classified into four distinct levels: nominal, ordinal, interval, and ratio.\n",
    "\n",
    "\n",
    "For example, let's consider a study analyzing the satisfaction levels of students in different courses using a Likert scale (ordinal variable). If someone mistakenly assumes the data is at the interval level, they might calculate the mean of the satisfaction ratings. However, since the Likert scale does not have equal intervals, computing the mean in this case would be misleading and could lead to incorrect conclusions about the satisfaction levels."
   ]
  },
  {
   "attachments": {},
   "cell_type": "markdown",
   "metadata": {},
   "source": [
    "Q7. How nominal data type is different from ordinal data type.\n"
   ]
  },
  {
   "attachments": {},
   "cell_type": "markdown",
   "metadata": {},
   "source": [
    " Ans:the main distinction between nominal and ordinal data lies in the level of measurement and the nature of the variables. Nominal data represents categorical variables with no inherent order or magnitude, while ordinal data represents categorical variables with an inherent order or ranking but without uniform intervals. Understanding these differences is crucial when selecting appropriate statistical analyses or interpreting data accurately."
   ]
  },
  {
   "attachments": {},
   "cell_type": "markdown",
   "metadata": {},
   "source": [
    "Q8. Which type of plot can be used to display data in terms of range?"
   ]
  },
  {
   "attachments": {},
   "cell_type": "markdown",
   "metadata": {},
   "source": [
    "Ans :A box plot (also known as a box-and-whisker plot) is commonly used to display data in terms of range. It provides a visual representation of the minimum, first quartile, median, third quartile, and maximum values of a dataset, allowing for a quick understanding of the range and distribution of the data.\n",
    "\n",
    "By visualizing the range of the data through a box plot, it becomes easier to identify outliers, assess symmetry or skewness, compare multiple datasets, and understand the overall distribution. It is particularly useful when working with numerical data and when comparing data across different groups or categories."
   ]
  },
  {
   "attachments": {},
   "cell_type": "markdown",
   "metadata": {},
   "source": [
    "Q9. Describe the difference between descriptive and inferential statistics. Give an example of each\n",
    "type of statistics and explain how they are used.\n"
   ]
  },
  {
   "attachments": {},
   "cell_type": "markdown",
   "metadata": {},
   "source": [
    "Ans:\n",
    "Descriptive statistics summarizes and presents data, providing insights into its characteristics. It focuses on organizing, summarizing, and presenting data. For example, calculating the mean and standard deviation of a set of heights.\n",
    "\n",
    "Inferential statistics makes inferences and draws conclusions about a population based on sample data. It involves using probability theory and statistical techniques to generalize findings. For example, determining if a new drug is effective in reducing blood pressure by comparing a treatment group to a control group."
   ]
  },
  {
   "attachments": {},
   "cell_type": "markdown",
   "metadata": {},
   "source": [
    "Q10. What are some common measures of central tendency and variability used in statistics? Explain\n",
    "how each measure can be used to describe a dataset."
   ]
  },
  {
   "attachments": {},
   "cell_type": "markdown",
   "metadata": {},
   "source": [
    "Ans:Common measures of central tendency include the mean (average), median (middle value), and mode (most frequent value). They describe the central value around which data clusters or tends to be concentrated.\n",
    "\n",
    "Measures of variability include the range (difference between maximum and minimum values), variance (average squared deviation from the mean), standard deviation (square root of the variance), and interquartile range (difference between the first and third quartiles). These measures quantify the spread or dispersion of data.\n",
    "\n",
    "These measures are used to summarize and describe datasets, providing insights into their central value, concentration, and spread. They help in comparing data, identifying outliers, and making informed interpretations or decisions based on the data."
   ]
  },
  {
   "attachments": {},
   "cell_type": "markdown",
   "metadata": {},
   "source": []
  }
 ],
 "metadata": {
  "language_info": {
   "name": "python"
  },
  "orig_nbformat": 4
 },
 "nbformat": 4,
 "nbformat_minor": 2
}
